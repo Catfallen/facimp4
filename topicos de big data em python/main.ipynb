{
 "cells": [
  {
   "cell_type": "code",
   "execution_count": 7,
   "id": "5e183ab6",
   "metadata": {},
   "outputs": [],
   "source": [
    "import pandas as pd"
   ]
  },
  {
   "cell_type": "code",
   "execution_count": 8,
   "id": "8202b069",
   "metadata": {},
   "outputs": [],
   "source": [
    "df = pd.read_csv(\"dados.csv\", sep=\",\",encoding = 'utf-8')"
   ]
  },
  {
   "cell_type": "code",
   "execution_count": 9,
   "id": "36d061d1",
   "metadata": {},
   "outputs": [],
   "source": [
    "pd.set_option(\"display.max_rows\", 100)\n",
    "pd.set_option(\"display.max_columns\", None)"
   ]
  },
  {
   "cell_type": "code",
   "execution_count": 16,
   "id": "fc1c7ed6",
   "metadata": {},
   "outputs": [
    {
     "name": "stdout",
     "output_type": "stream",
     "text": [
      "Index(['0.a_token', '0.d_data/hora_envio', '1.a_idade', '1.a.1_faixa_idade',\n",
      "       '1.b_genero', '1.c_cor/raca/etnia', '1.d_pcd',\n",
      "       '1.e_experiencia_profissional_prejudicada',\n",
      "       '1.e.1_Não acredito que minha experiência profissional seja afetada',\n",
      "       '1.e.2_Sim, devido a minha Cor/Raça/Etnia',\n",
      "       ...\n",
      "       '8.d.3_Entrando em contato com os times de negócio para definição do problema, identificar a solução e apresentação de resultados.',\n",
      "       '8.d.4_Desenvolvendo modelos de Machine Learning com o objetivo de colocar em produção em sistemas (produtos de dados).',\n",
      "       '8.d.5_Colocando modelos em produção, criando os pipelines de dados, APIs de consumo e monitoramento.',\n",
      "       '8.d.6_Cuidando da manutenção de modelos de Machine Learning já em produção, atuando no monitoramento, ajustes e refatoração quando necessário.',\n",
      "       '8.d.7_Realizando construções de dashboards em ferramentas de BI como PowerBI, Tableau, Looker, Qlik, etc.',\n",
      "       '8.d.8_Utilizando ferramentas avançadas de estatística como SAS, SPSS, Stata etc, para realizar análises.',\n",
      "       '8.d.9_Criando e dando manutenção em ETLs, DAGs e automações de pipelines de dados.',\n",
      "       '8.d.10_Criando e gerenciando soluções de Feature Store e cultura de MLOps.',\n",
      "       '8.d.11_Criando e mantendo a infra que meus modelos e soluções rodam (clusters, servidores, API, containers, etc.)',\n",
      "       '8.d.12_Treinando e aplicando LLM's para solucionar problemas de negócio.'],\n",
      "      dtype='object', length=403)\n"
     ]
    }
   ],
   "source": [
    "print(df.columns)"
   ]
  },
  {
   "cell_type": "code",
   "execution_count": 17,
   "id": "1f7cb29b",
   "metadata": {},
   "outputs": [
    {
     "name": "stdout",
     "output_type": "stream",
     "text": [
      "Index(['0.a_token', '0.d_data/hora_envio', '1.a_idade', '1.a.1_faixa_idade',\n",
      "       '1.b_genero', '1.c_cor/raca/etnia', '1.d_pcd',\n",
      "       '1.e_experiencia_profissional_prejudicada',\n",
      "       '1.e.1_Não acredito que minha experiência profissional seja afetada',\n",
      "       '1.e.2_Sim, devido a minha Cor/Raça/Etnia'],\n",
      "      dtype='object')\n",
      "Index(['8.d.3_Entrando em contato com os times de negócio para definição do problema, identificar a solução e apresentação de resultados.',\n",
      "       '8.d.4_Desenvolvendo modelos de Machine Learning com o objetivo de colocar em produção em sistemas (produtos de dados).',\n",
      "       '8.d.5_Colocando modelos em produção, criando os pipelines de dados, APIs de consumo e monitoramento.',\n",
      "       '8.d.6_Cuidando da manutenção de modelos de Machine Learning já em produção, atuando no monitoramento, ajustes e refatoração quando necessário.',\n",
      "       '8.d.7_Realizando construções de dashboards em ferramentas de BI como PowerBI, Tableau, Looker, Qlik, etc.',\n",
      "       '8.d.8_Utilizando ferramentas avançadas de estatística como SAS, SPSS, Stata etc, para realizar análises.',\n",
      "       '8.d.9_Criando e dando manutenção em ETLs, DAGs e automações de pipelines de dados.',\n",
      "       '8.d.10_Criando e gerenciando soluções de Feature Store e cultura de MLOps.',\n",
      "       '8.d.11_Criando e mantendo a infra que meus modelos e soluções rodam (clusters, servidores, API, containers, etc.)',\n",
      "       '8.d.12_Treinando e aplicando LLM's para solucionar problemas de negócio.'],\n",
      "      dtype='object')\n"
     ]
    }
   ],
   "source": [
    "print(df.columns[:10])   # primeiras 10\n",
    "print(df.columns[-10:])  # últimas 10"
   ]
  }
 ],
 "metadata": {
  "kernelspec": {
   "display_name": "python-teste",
   "language": "python",
   "name": "python-teste"
  },
  "language_info": {
   "codemirror_mode": {
    "name": "ipython",
    "version": 3
   },
   "file_extension": ".py",
   "mimetype": "text/x-python",
   "name": "python",
   "nbconvert_exporter": "python",
   "pygments_lexer": "ipython3",
   "version": "3.11.4"
  }
 },
 "nbformat": 4,
 "nbformat_minor": 5
}
